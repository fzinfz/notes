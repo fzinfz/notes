{
 "cells": [
  {
   "cell_type": "markdown",
   "metadata": {},
   "source": [
    "# Resources\n",
    "My multi-kernel jupyter docker image: https://hub.docker.com/r/fzinfz/anaconda3/\n",
    "\n",
    "Opinionated stacks: https://github.com/jupyter/docker-stacks  \n",
    "multi-user Hub: https://github.com/jupyterhub/jupyterhub  \n",
    "\n",
    "Run python online  \n",
    "http://repl.it/languages/Python  \n",
    "http://repl.it/languages/Python3   \n",
    "(Note： http://repl.it can run nearly any language)  \n",
    "\n",
    "News:  \n",
    "[As of July 2016 the Anaconda Build system is deprecated](https://docs.continuum.io/anaconda-cloud/build)"
   ]
  },
  {
   "cell_type": "markdown",
   "metadata": {},
   "source": [
    "# Server Setup\n",
    "http://jupyter-notebook.readthedocs.io/en/latest/public_server.html  "
   ]
  },
  {
   "cell_type": "code",
   "execution_count": null,
   "metadata": {
    "collapsed": false
   },
   "outputs": [],
   "source": [
    "jupyter notebook --generate-config\n",
    "\n",
    "vi ~/.jupyter/jupyter_notebook_config.py   # c.NotebookApp.password\n",
    "\n",
    "jupyter console # start the ZMQ-based console\n",
    "jupyter console --existing # If no argument specified, guess most recent"
   ]
  },
  {
   "cell_type": "markdown",
   "metadata": {},
   "source": [
    "# conda env"
   ]
  },
  {
   "cell_type": "code",
   "execution_count": null,
   "metadata": {
    "collapsed": false
   },
   "outputs": [],
   "source": [
    "anaconda login\n",
    "anaconda whoami\n",
    "conda create --name=py27 python=2.7\n",
    "conda create --name py35 --clone root\n",
    "conda remove --name py35 --all\n",
    "conda env export > py35.yml\n",
    "conda env create -f py35.yml\n",
    "\n",
    "conda env upload --file=py35.yml\n",
    "\n",
    "conda info\n",
    "\n",
    "conda env list"
   ]
  },
  {
   "cell_type": "markdown",
   "metadata": {},
   "source": [
    "# ipykernel  \n",
    "http://ipython.readthedocs.io/en/stable/install/kernel_install.html"
   ]
  },
  {
   "cell_type": "code",
   "execution_count": null,
   "metadata": {
    "collapsed": false
   },
   "outputs": [],
   "source": [
    "jupyter-kernelspec list"
   ]
  },
  {
   "cell_type": "code",
   "execution_count": null,
   "metadata": {
    "collapsed": true
   },
   "outputs": [],
   "source": [
    "python3 -m pip install ipykernel\n",
    "python3 -m ipykernel install --user\n",
    "\n",
    "python2 -m pip install ipykernel\n",
    "python2 -m ipykernel install --user"
   ]
  },
  {
   "cell_type": "markdown",
   "metadata": {},
   "source": [
    "# virtualenv"
   ]
  },
  {
   "cell_type": "code",
   "execution_count": null,
   "metadata": {
    "collapsed": true
   },
   "outputs": [],
   "source": [
    "yum install python34-setuptools\n",
    "easy_install-3.4 pip\n",
    "\n",
    "virtualenv ENV  \n",
    "cd ENV  \n",
    "source ./bin/activate  \n",
    "deactivate"
   ]
  },
  {
   "cell_type": "markdown",
   "metadata": {},
   "source": [
    "# nbconvert"
   ]
  },
  {
   "cell_type": "code",
   "execution_count": null,
   "metadata": {
    "collapsed": true
   },
   "outputs": [],
   "source": [
    "pandoc deb: https://github.com/jgm/pandoc/releases/\n",
    "jupyter nbconvert --to rst notebook*.ipynb"
   ]
  }
 ],
 "metadata": {
  "anaconda-cloud": {},
  "kernelspec": {
   "display_name": "Bash",
   "language": "bash",
   "name": "bash"
  },
  "language_info": {
   "codemirror_mode": "shell",
   "file_extension": ".sh",
   "mimetype": "text/x-sh",
   "name": "bash"
  }
 },
 "nbformat": 4,
 "nbformat_minor": 0
}
