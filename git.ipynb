{
 "cells": [
  {
   "cell_type": "code",
   "execution_count": 26,
   "metadata": {
    "collapsed": false
   },
   "outputs": [
    {
     "name": "stdout",
     "output_type": "stream",
     "text": [
      "README.md\t   git.ipynb\t     nodejs.ipynb   py_net.ipynb\r\n",
      "VT.ipynb\t   go.ipynb\t     perl.ipynb     py_net_server.ipynb\r\n",
      "data_mining.ipynb  jupyter.ipynb     py.ipynb\t    py_web_server.ipynb\r\n",
      "docker.ipynb\t   linux.ipynb\t     py_db.ipynb    web.ipynb\r\n",
      "docs\t\t   networking.ipynb  py_math.ipynb\r\n"
     ]
    }
   ],
   "source": [
    "ls"
   ]
  },
  {
   "cell_type": "code",
   "execution_count": 25,
   "metadata": {
    "collapsed": false
   },
   "outputs": [
    {
     "name": "stdout",
     "output_type": "stream",
     "text": [
      "On branch master\r\n",
      "Your branch is ahead of 'origin/master' by 3 commits.\r\n",
      "  (use \"git push\" to publish your local commits)\r\n",
      "Changes not staged for commit:\r\n",
      "  (use \"git add <file>...\" to update what will be committed)\r\n",
      "  (use \"git checkout -- <file>...\" to discard changes in working directory)\r\n",
      "\r\n",
      "\tmodified:   git.ipynb\r\n",
      "\r\n",
      "no changes added to commit (use \"git add\" and/or \"git commit -a\")\r\n"
     ]
    }
   ],
   "source": [
    "git status"
   ]
  },
  {
   "cell_type": "code",
   "execution_count": 24,
   "metadata": {
    "collapsed": false
   },
   "outputs": [
    {
     "name": "stdout",
     "output_type": "stream",
     "text": []
    }
   ],
   "source": [
    "git config --global push.default simple"
   ]
  },
  {
   "cell_type": "code",
   "execution_count": 19,
   "metadata": {
    "collapsed": false
   },
   "outputs": [
    {
     "name": "stdout",
     "output_type": "stream",
     "text": []
    }
   ],
   "source": [
    "git add -A"
   ]
  },
  {
   "cell_type": "code",
   "execution_count": 21,
   "metadata": {
    "collapsed": false
   },
   "outputs": [
    {
     "name": "stdout",
     "output_type": "stream",
     "text": [
      "[master e1ae2b8] update .gitignore\r\n",
      " 3 files changed, 32 insertions(+), 44 deletions(-)\r\n"
     ]
    }
   ],
   "source": [
    "git commit -am 'update .gitignore'"
   ]
  },
  {
   "cell_type": "code",
   "execution_count": 5,
   "metadata": {
    "collapsed": false
   },
   "outputs": [
    {
     "name": "stdout",
     "output_type": "stream",
     "text": []
    }
   ],
   "source": [
    "git config --global user.email \"fzinfz@gmail.com\"\n",
    "  git config --global user.name \"Ferro Fang\""
   ]
  },
  {
   "cell_type": "code",
   "execution_count": 15,
   "metadata": {
    "collapsed": false
   },
   "outputs": [
    {
     "name": "stdout",
     "output_type": "stream",
     "text": []
    }
   ],
   "source": [
    "echo .ipynb_checkpoints/ > .gitignore\n"
   ]
  },
  {
   "cell_type": "code",
   "execution_count": 16,
   "metadata": {
    "collapsed": false
   },
   "outputs": [
    {
     "name": "stdout",
     "output_type": "stream",
     "text": [
      ".ipynb_checkpoints/\r\n"
     ]
    }
   ],
   "source": [
    "cat .gitignore"
   ]
  },
  {
   "cell_type": "code",
   "execution_count": 23,
   "metadata": {
    "collapsed": false
   },
   "outputs": [
    {
     "name": "stdout",
     "output_type": "stream",
     "text": [
      "warning: push.default is unset; its implicit value has changed in\r\n",
      "Git 2.0 from 'matching' to 'simple'. To squelch this message\r\n",
      "and maintain the traditional behavior, use:\r\n",
      "\r\n",
      "  git config --global push.default matching\r\n",
      "\r\n",
      "To squelch this message and adopt the new behavior now, use:\r\n",
      "\r\n",
      "  git config --global push.default simple\r\n",
      "\r\n",
      "When push.default is set to 'matching', git will push local branches\r\n",
      "to the remote branches that already exist with the same name.\r\n",
      "\r\n",
      "Since Git 2.0, Git defaults to the more conservative 'simple'\r\n",
      "behavior, which only pushes the current branch to the corresponding\r\n",
      "remote branch that 'git pull' uses to update the current branch.\r\n",
      "\r\n",
      "See 'git help config' and search for 'push.default' for further information.\r\n",
      "(the 'simple' mode was introduced in Git 1.7.11. Use the similar mode\r\n",
      "'current' instead of 'simple' if you sometimes use older versions of Git)\r\n",
      "\r\n",
      "Username for 'https://github.com': \r\n"
     ]
    }
   ],
   "source": [
    "git push"
   ]
  }
 ],
 "metadata": {
  "anaconda-cloud": {},
  "kernelspec": {
   "display_name": "Bash",
   "language": "bash",
   "name": "bash"
  },
  "language_info": {
   "codemirror_mode": "shell",
   "file_extension": ".sh",
   "mimetype": "text/x-sh",
   "name": "bash"
  }
 },
 "nbformat": 4,
 "nbformat_minor": 1
}
