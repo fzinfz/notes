{
 "cells": [
  {
   "cell_type": "code",
   "execution_count": 7,
   "metadata": {
    "collapsed": false
   },
   "outputs": [
    {
     "name": "stdout",
     "output_type": "stream",
     "text": [
      "On branch master\r\n",
      "Your branch is ahead of 'origin/master' by 1 commit.\r\n",
      "  (use \"git push\" to publish your local commits)\r\n",
      "nothing to commit, working directory clean\r\n"
     ]
    }
   ],
   "source": [
    "git status"
   ]
  },
  {
   "cell_type": "code",
   "execution_count": 2,
   "metadata": {
    "collapsed": false
   },
   "outputs": [
    {
     "name": "stdout",
     "output_type": "stream",
     "text": []
    }
   ],
   "source": [
    "git add -A"
   ]
  },
  {
   "cell_type": "code",
   "execution_count": 6,
   "metadata": {
    "collapsed": false
   },
   "outputs": [
    {
     "name": "stdout",
     "output_type": "stream",
     "text": [
      "[master 46730d3] add .gitignore\r\n",
      " 6 files changed, 2624 insertions(+), 12 deletions(-)\r\n",
      " create mode 100644 .gitignore\r\n",
      " create mode 100644 .ipynb_checkpoints/linux-checkpoint.ipynb\r\n",
      " create mode 100644 .ipynb_checkpoints/py-checkpoint.ipynb\r\n",
      " create mode 100644 git.ipynb\r\n"
     ]
    }
   ],
   "source": [
    "git commit -am 'add .gitignore'"
   ]
  },
  {
   "cell_type": "code",
   "execution_count": 5,
   "metadata": {
    "collapsed": false
   },
   "outputs": [
    {
     "name": "stdout",
     "output_type": "stream",
     "text": []
    }
   ],
   "source": [
    "git config --global user.email \"fzinfz@gmail.com\"\n",
    "  git config --global user.name \"Ferro Fang\""
   ]
  },
  {
   "cell_type": "code",
   "execution_count": 9,
   "metadata": {
    "collapsed": false
   },
   "outputs": [
    {
     "name": "stdout",
     "output_type": "stream",
     "text": [
      ".ipynb_checkpoints/git-checkpoint.ipynb .ipynb_checkpoints/linux-checkpoint.ipynb .ipynb_checkpoints/py-checkpoint.ipynb\r\n"
     ]
    }
   ],
   "source": [
    "echo .ipynb_checkpoints/* > .gitignore\n",
    "cat .gitignore"
   ]
  }
 ],
 "metadata": {
  "anaconda-cloud": {},
  "kernelspec": {
   "display_name": "Bash",
   "language": "bash",
   "name": "bash"
  },
  "language_info": {
   "codemirror_mode": "shell",
   "file_extension": ".sh",
   "mimetype": "text/x-sh",
   "name": "bash"
  }
 },
 "nbformat": 4,
 "nbformat_minor": 1
}
