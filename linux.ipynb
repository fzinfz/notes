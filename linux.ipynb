{
 "cells": [
  {
   "cell_type": "code",
   "execution_count": 77,
   "metadata": {
    "collapsed": false
   },
   "outputs": [
    {
     "name": "stdout",
     "output_type": "stream",
     "text": [
      "             total       used       free     shared    buffers     cached\n",
      "Mem:           748        664         84          0         28        199\n",
      "-/+ buffers/cache:        436        312\n",
      "Swap:            0          0          0\n",
      "\n",
      "USER       PID %CPU %MEM    VSZ   RSS TTY      STAT START   TIME COMMAND\n",
      "root     10972  0.0  6.3 215372 48788 pts/1    Sl   14:09   0:04 /root/anaconda3/bin/python /root/anaconda3/bin/jupyter-notebook --certfile=/root/la1.tracert.win/cert1.pem --keyfile /root/la1.tracert.win/privkey1.pem\n",
      "root      9611  0.0  0.2  19472  2140 pts/1    Ss+  13:14   0:00 -bash\n",
      "root      9564  0.0  0.2  19440  2064 pts/0    Ss+  13:12   0:00 -bash\n",
      "root      2204  0.0  0.1  14584   844 tty3     Ss+  Jul22   0:00 /sbin/getty 38400 tty3\n",
      "root      2206  0.0  0.1  14584   844 tty5     Ss+  Jul22   0:00 /sbin/getty 38400 tty5\n",
      "root      2207  0.0  0.1  14584   840 tty6     Ss+  Jul22   0:00 /sbin/getty 38400 tty6\n",
      "root      2202  0.0  0.1  14584   836 tty1     Ss+  Jul22   0:00 /sbin/getty 38400 tty1\n",
      "root      2203  0.0  0.1  14584   836 tty2     Ss+  Jul22   0:00 /sbin/getty 38400 tty2\n",
      "root      2205  0.0  0.1  14584   836 tty4     Ss+  Jul22   0:00 /sbin/getty 38400 tty4\n",
      "root     10971  0.0  0.0   4188   576 pts/1    S    14:09   0:00 sh jupyter_with_config.sh\n"
     ]
    }
   ],
   "source": [
    "%%bash\n",
    "free -m\n",
    "printf '\\n'\n",
    "ps au --sort=-pcpu,-rss | head -n20"
   ]
  },
  {
   "cell_type": "code",
   "execution_count": 62,
   "metadata": {
    "collapsed": false
   },
   "outputs": [
    {
     "name": "stdout",
     "output_type": "stream",
     "text": [
      "USER       PID %CPU %MEM    VSZ   RSS TTY      STAT START   TIME COMMAND\r\n",
      "root      7801  0.0  3.4 1411816 26328 ?       Sl   12:24   0:07 unifi -home /usr/lib/jvm/java-6-openjdk-amd64 -cp /usr/share/java/commons-daemon.jar:/usr/lib/unifi/lib/ace.jar -pidfile /var/run/unifi/unifi.pid -procname unifi -outfile SYSLOG -errfile SYSLOG -Dunifi.datadir=/var/lib/unifi -Dunifi.logdir=/var/log/unifi -Dunifi.rundir=/var/run/unifi -Xmx1024M -Djava.awt.headless=true -Dfile.encoding=UTF-8 com.ubnt.ace.Launcher start\r\n",
      "root     10997  0.0  3.9 227148 30532 ?        Ssl  14:11   0:02 /root/anaconda3/bin/python -m ipykernel -f /root/.local/share/jupyter/runtime/kernel-f1e8a9b7-bc2a-4a6c-a93f-a58e2785dc69.json\r\n",
      "root     10972  0.0  6.3 215372 48788 pts/1    Sl   14:09   0:04 /root/anaconda3/bin/python /root/anaconda3/bin/jupyter-notebook --certfile=/root/la1.tracert.win/cert1.pem --keyfile /root/la1.tracert.win/privkey1.pem\r\n",
      "root      9562  0.0  0.4  71272  3720 ?        Ss   13:12   0:00 sshd: root@pts/0 \r\n",
      "root      9607  0.0  0.4  71272  3720 ?        Ss   13:14   0:00 sshd: root@pts/1 \r\n",
      "www-data 27270  0.0  0.2  64884  1676 ?        S    Jul22   1:04 nginx: worker process\r\n",
      "www-data 27271  0.0  0.2  64884  1676 ?        S    Jul22   1:04 nginx: worker process\r\n",
      "www-data 27272  0.0  0.3  64884  2308 ?        S    Jul22   0:00 nginx: worker process\r\n",
      "www-data 27273  0.0  0.2  64884  1676 ?        S    Jul22   1:06 nginx: worker process\r\n",
      "root     26928  0.0  0.2  64580  1888 ?        Ss   Jul22   0:00 nginx: master process /usr/sbin/nginx\r\n",
      "root      1865  0.0  0.6  56108  4752 ?        Sl   Jul22   0:53 /usr/sbin/rsyslogd -c5\r\n",
      "root      2087  0.0  0.1  49948  1252 ?        Ss   Jul22   0:26 /usr/sbin/sshd\r\n",
      "ntp       1970  0.0  0.2  39084  2220 ?        Ss   Jul22   1:19 /usr/sbin/ntpd -p /var/run/ntpd.pid -g -u 101:103\r\n",
      "root       304  0.0  0.1  21500  1300 ?        Ss   Jul22   0:00 udevd --daemon\r\n",
      "root       423  0.0  0.1  21268   788 ?        S    Jul22   0:00 udevd --daemon\r\n",
      "root       424  0.0  0.1  21268   792 ?        S    Jul22   0:00 udevd --daemon\r\n",
      "root      9611  0.0  0.2  19472  2128 pts/1    Ss   13:14   0:00 -bash\r\n",
      "root      9564  0.0  0.2  19440  2064 pts/0    Ss+  13:12   0:00 -bash\r\n",
      "root      1944  0.0  0.1  18888   876 ?        Ss   Jul22   0:01 /usr/sbin/cron\r\n"
     ]
    }
   ],
   "source": [
    "!ps aux --sort=pcpu,-vsz | head -20"
   ]
  },
  {
   "cell_type": "code",
   "execution_count": 30,
   "metadata": {
    "collapsed": false
   },
   "outputs": [
    {
     "data": {
      "text/plain": [
       "'nginx,sudo,btsync,bc,shadowsocks-libev,aria2,unifi_sysvinit_all,unifi,-f unifi,-f unifi,-f'"
      ]
     },
     "execution_count": 30,
     "metadata": {},
     "output_type": "execute_result"
    }
   ],
   "source": [
    "h = !cat .bash_history \n",
    "','.join([s.split('install ')[1] for s in h if 'apt-get install' in s])"
   ]
  },
  {
   "cell_type": "code",
   "execution_count": 55,
   "metadata": {
    "collapsed": false
   },
   "outputs": [
    {
     "name": "stdout",
     "output_type": "stream",
     "text": [
      " -y                   do not show flags, show rss (only with -l)\n"
     ]
    }
   ],
   "source": [
    "%%bash\n",
    "ps --help all | grep rss"
   ]
  }
 ],
 "metadata": {
  "anaconda-cloud": {},
  "kernelspec": {
   "display_name": "Python [Root]",
   "language": "python",
   "name": "Python [Root]"
  },
  "language_info": {
   "codemirror_mode": {
    "name": "ipython",
    "version": 3
   },
   "file_extension": ".py",
   "mimetype": "text/x-python",
   "name": "python",
   "nbconvert_exporter": "python",
   "pygments_lexer": "ipython3",
   "version": "3.5.2"
  }
 },
 "nbformat": 4,
 "nbformat_minor": 0
}
