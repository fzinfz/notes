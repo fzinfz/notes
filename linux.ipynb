{
 "cells": [
  {
   "cell_type": "markdown",
   "metadata": {},
   "source": [
    "# Install Bash kernel\n",
    "https://github.com/takluyver/bash_kernel  \n",
    "```\n",
    "pip install bash_kernel\n",
    "python -m bash_kernel.install    \n",
    "```"
   ]
  },
  {
   "cell_type": "markdown",
   "metadata": {},
   "source": [
    "# System"
   ]
  },
  {
   "cell_type": "code",
   "execution_count": 9,
   "metadata": {
    "collapsed": false
   },
   "outputs": [
    {
     "name": "stdout",
     "output_type": "stream",
     "text": [
      "free -m -m -m\r\n",
      "             total       used       free     shared    buffers     cached\r\n",
      "Mem:           748        661         87          0          5         45\r\n",
      "-/+ buffers/cache:        610        138\r\n",
      "Swap:            0          0          0\r\n"
     ]
    }
   ],
   "source": [
    "!free -m"
   ]
  },
  {
   "cell_type": "code",
   "execution_count": 24,
   "metadata": {
    "collapsed": false
   },
   "outputs": [
    {
     "name": "stdout",
     "output_type": "stream",
     "text": [
      "name: root \n",
      "dependencies:\n",
      "- _nb_ext_conf=0.2.0=py35_0\n",
      "- alabaster=0.7.8=py35_0\n",
      "http://unix.stackexchange.com/questions/112023/how-can-i-replace-a-string-in-a-files\n"
     ]
    }
   ],
   "source": [
    "cd ~\n",
    "cat py35.yml | head -n 4\n",
    "\n",
    "sed -i 's/(?<=name: )root/py352/' py35.yml\n",
    "cat py35.yml | head -n 4"
   ]
  },
  {
   "cell_type": "markdown",
   "metadata": {},
   "source": [
    "# Text file Operations\n",
    "http://unix.stackexchange.com/questions/112023/how-can-i-replace-a-string-in-a-files"
   ]
  },
  {
   "cell_type": "code",
   "execution_count": 33,
   "metadata": {
    "collapsed": false
   },
   "outputs": [
    {
     "name": "stdout",
     "output_type": "stream",
     "text": [
      "total 24\n",
      "drwxr-xr-x 12 root root 4096 Aug 10 10:02 anaconda3\n",
      "drwxr-xr-x  3 root root 4096 Aug  9 18:23 btsync\n",
      "drwxr-xr-x  2 root root 4096 Aug  9 13:45 certbot\n",
      "drwx------  7 root root 4096 Aug  9 17:34 Dropbox\n",
      "-rw-r--r--  1 root root    0 Aug 10 10:06 py35.yml\n",
      "drwxr-xr-x  3 root root 4096 Jul 22 04:47 serverspeeder\n",
      "drwxr-xr-x  2 root root 4096 Jul 22 05:19 ss-libev\n",
      "-rw-r--r--  1 root root    0 Aug 10 06:24 testfile\n",
      "lrwxrwxrwx  1 root root   21 Jul 22 06:25 www -> /usr/share/nginx/www/\n",
      "Wed Aug 10 10:08:18 UTC 2016\n"
     ]
    }
   ],
   "source": [
    "%%bash\n",
    "cd ~\n",
    "ls -l\n",
    "date\n",
    "cat py35.yml"
   ]
  },
  {
   "cell_type": "code",
   "execution_count": 17,
   "metadata": {
    "collapsed": false
   },
   "outputs": [
    {
     "name": "stdout",
     "output_type": "stream",
     "text": [
      "USER       PID %CPU %MEM    VSZ   RSS TTY      STAT START   TIME COMMAND\r\n",
      "root      9125  0.5 24.0 2056440 184252 ?      Sl   Aug09  10:18 /usr/lib/jvm/java-6-openjdk-amd64/jre/bin/java -Xmx1024M -XX:ErrorFile=/usr/lib/unifi/data/logs/hs_err_pid<pid>.log -Dapple.awt.UIElement=true -jar /usr/lib/unifi/lib/ace.jar start\r\n",
      "mongodb   6934  0.3  1.4 107824 11476 ?        Sl   Aug09   5:18 /usr/bin/mongod --unixSocketPrefix=/var/run/mongodb --config /etc/mongodb.conf run\r\n",
      "\r\n",
      "USER       PID %CPU %MEM    VSZ   RSS TTY      STAT START   TIME COMMAND\r\n",
      "root      9125  0.5 24.0 2056440 184252 ?      Sl   Aug09  10:18 /usr/lib/jvm/java-6-openjdk-amd64/jre/bin/java -Xmx1024M -XX:ErrorFile=/usr/lib/unifi/data/logs/hs_err_pid<pid>.log -Dapple.awt.UIElement=true -jar /usr/lib/unifi/lib/ace.jar start\r\n",
      "root     14471  0.2 17.1 781980 131868 ?       Ssl  Aug09   3:18 /root/.dropbox-dist/dropbox-lnx.x86_64-7.4.30/dropbox\r\n"
     ]
    }
   ],
   "source": [
    "ps aux --sort=-pcpu | head -n 3\n",
    "echo \"\"\n",
    "ps aux --sort=-rss | head -n 3"
   ]
  },
  {
   "cell_type": "code",
   "execution_count": 30,
   "metadata": {
    "collapsed": false
   },
   "outputs": [
    {
     "data": {
      "text/plain": [
       "'nginx,sudo,btsync,bc,shadowsocks-libev,aria2,unifi_sysvinit_all,unifi,-f unifi,-f unifi,-f'"
      ]
     },
     "execution_count": 30,
     "metadata": {},
     "output_type": "execute_result"
    }
   ],
   "source": [
    "h = !cat .bash_history \n",
    "','.join([s.split('install ')[1] for s in h if 'apt-get install' in s])"
   ]
  },
  {
   "cell_type": "code",
   "execution_count": 55,
   "metadata": {
    "collapsed": false
   },
   "outputs": [
    {
     "name": "stdout",
     "output_type": "stream",
     "text": [
      " -y                   do not show flags, show rss (only with -l)\n"
     ]
    }
   ],
   "source": [
    "%%bash\n",
    "ps --help all | grep rss"
   ]
  },
  {
   "cell_type": "code",
   "execution_count": null,
   "metadata": {
    "collapsed": false
   },
   "outputs": [],
   "source": [
    "rsync -v src/ dst/ --remove-source-files\n",
    "\n",
    "-a, --archive               archive mode; equals -rlptgoD (no -H,-A,-X)\n",
    "-H, --hard-links preserve hard links\n",
    "-A, --acls preserve ACLs (implies -p)\n",
    "-X, --xattrs preserve extended attributes"
   ]
  },
  {
   "cell_type": "code",
   "execution_count": null,
   "metadata": {
    "collapsed": true
   },
   "outputs": [],
   "source": [
    "mkdir -p /not/existing/folder"
   ]
  },
  {
   "cell_type": "markdown",
   "metadata": {},
   "source": [
    "# Scripts"
   ]
  },
  {
   "cell_type": "code",
   "execution_count": 11,
   "metadata": {
    "collapsed": false
   },
   "outputs": [
    {
     "name": "stdout",
     "output_type": "stream",
     "text": [
      "0=>1\r\n",
      "1=>2\r\n",
      "2=>3\r\n"
     ]
    }
   ],
   "source": [
    "string=\"1:2:3\"\n",
    "set -f                      # avoid globbing (expansion of *).\n",
    "array=(${string//:/ })\n",
    "for i in \"${!array[@]}\"\n",
    "do\n",
    "    echo \"$i=>${array[i]}\"\n",
    "done"
   ]
  },
  {
   "cell_type": "code",
   "execution_count": null,
   "metadata": {
    "collapsed": true
   },
   "outputs": [],
   "source": [
    "echo 'ps grep excluding grep pid'\n",
    "RESULT_ssh_agent =`ps -aux | sed -n /[s]sh-agent/p`\n",
    "\n",
    "if [ \"${RESULT_ssh_agent:-null}\" = null ]; then\n",
    "\tchmod 600 /home/fzinfz/.ssh/id_rsa_vultr\n",
    "\teval $(ssh-agent -s)\n",
    "\tssh-add /home/fzinfz/.ssh/id_rsa_vultr\n",
    "else\n",
    "    echo \"ssh-agent running,skip adding\"\n",
    "fi"
   ]
  },
  {
   "cell_type": "code",
   "execution_count": 15,
   "metadata": {
    "collapsed": false
   },
   "outputs": [
    {
     "name": "stdout",
     "output_type": "stream",
     "text": [
      "\r",
      "Reading package lists... 0%\r",
      "\r",
      "Reading package lists... 100%\r",
      "\r",
      "Reading package lists... Done\r",
      "\r\n",
      "\r",
      "Building dependency tree... 0%\r",
      "\r",
      "Building dependency tree... 0%\r",
      "\r",
      "Building dependency tree... 50%\r",
      "\r",
      "Building dependency tree... 50%\r",
      "\r",
      "Building dependency tree       \r",
      "\r\n",
      "\r",
      "Reading state information... 0%\r",
      "\r",
      "Reading state information... 0%\r",
      "\r",
      "Reading state information... Done\r",
      "\r\n",
      "E: Unable to locate package git,aria2\r\n"
     ]
    }
   ],
   "source": [
    "apt-get install git,aria2"
   ]
  },
  {
   "cell_type": "markdown",
   "metadata": {},
   "source": []
  }
 ],
 "metadata": {
  "anaconda-cloud": {},
  "kernelspec": {
   "display_name": "Bash",
   "language": "bash",
   "name": "bash"
  },
  "language_info": {
   "codemirror_mode": "shell",
   "file_extension": ".sh",
   "mimetype": "text/x-sh",
   "name": "bash"
  }
 },
 "nbformat": 4,
 "nbformat_minor": 0
}
