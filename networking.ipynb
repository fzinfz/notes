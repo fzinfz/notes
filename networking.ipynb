{
 "cells": [
  {
   "cell_type": "markdown",
   "metadata": {},
   "source": [
    "# Hardware\n",
    "[Pinout Images](http://fromwiz.com/share/s/2NJIcl1P6QOm2N7FoF15BJa90KkA5e2uDkNq2E9okU1oWbTo)\n",
    "\n",
    "# UBNT/VyOS/Vyatta\n",
    "https://help.ubnt.com/hc/en-us/articles/205197660-EdgeMAX-SOHO-Example  "
   ]
  },
  {
   "cell_type": "markdown",
   "metadata": {},
   "source": [
    "## RIP \n",
    "ubnt@ubnt# show protocols rip \n",
    "```\n",
    " interface switch0\n",
    " interface eth0\n",
    " neighbor 192.168.3.1\n",
    " redistribute {\n",
    "     connected {\n",
    "     }\n",
    " }\n",
    "```"
   ]
  },
  {
   "cell_type": "markdown",
   "metadata": {},
   "source": [
    "## Firmware\n",
    "```\n",
    "show version \n",
    "add system image http://dl.ubnt.com/...\n",
    "add system image egdeos-120821.tar\n",
    "show system image \n",
    "reboot\n",
    "show system image storage \n",
    "set system image default-boot \n",
    "delete system image \n",
    "\n",
    "set interfaces ethernet eth1 address 192.168.3.2/24\n",
    "commit\n",
    "\n",
    "```"
   ]
  },
  {
   "cell_type": "markdown",
   "metadata": {},
   "source": [
    "# Unifi AP\n",
    "BZ.v3.7.5# info\n",
    "BZ.v3.7.5# set-inform http://unifi-controller:8080/inform\n"
   ]
  },
  {
   "cell_type": "markdown",
   "metadata": {},
   "source": [
    "\n",
    "# Raspberry PI\n",
    "```\n",
    "/opt/vc/bin/vcgencmd measure_temp\n",
    "```\n",
    "## Console\n",
    "/dev/ttyAMA0\n",
    "```\n",
    "Speed (baud rate): 115200\n",
    "Bits: 8\n",
    "Parity: None\n",
    "Stop Bits: 1\n",
    "Flow Control: None\n",
    "```"
   ]
  },
  {
   "cell_type": "markdown",
   "metadata": {},
   "source": [
    "\n",
    "# /proc/cpuinfo\n",
    "## ER-X\n",
    "```\n",
    "system type             : MT7621\n",
    "\n",
    "processor               : 3\n",
    "cpu model               : MIPS 1004Kc V2.15\n",
    "BogoMIPS                : 583.68\n",
    "wait instruction        : yes\n",
    "microsecond timers      : yes\n",
    "tlb_entries             : 32\n",
    "extra interrupt vector  : yes\n",
    "hardware watchpoint     : yes, count: 4, address/irw mask: [0x0ffc, 0x0ffc, 0x0f                                                    fb, 0x0ffb]\n",
    "isa                     : mips1 mips2 mips32r1 mips32r2\n",
    "ASEs implemented        : mips16 dsp mt\n",
    "\n",
    "ubnt@ubnt:~$ free -m\n",
    "             total       used       free     shared    buffers     cached\n",
    "Mem:           249        226         22          0         24         94\n",
    "-/+ buffers/cache:        107        141\n",
    "Swap:            0          0          0\n",
    "```\n",
    "\n",
    "## Unifi-AC-Lite\n",
    "```\n",
    "system type             : Qualcomm Atheros QCA956X rev 0\n",
    "\n",
    "processor               : 0\n",
    "cpu model               : MIPS 74Kc V5.0\n",
    "BogoMIPS                : 385.84\n",
    "wait instruction        : yes\n",
    "microsecond timers      : yes\n",
    "tlb_entries             : 32\n",
    "extra interrupt vector  : yes\n",
    "hardware watchpoint     : yes, count: 4, address/irw mask: [0x0000, 0x01e8, 0x0058, 0x0048]\n",
    "ASEs implemented        : mips16 dsp\n",
    "\n",
    "BZ.v3.7.5# free -m\n",
    "             total         used         free       shared      buffers\n",
    "Mem:        126316        62272        64044            0            0\n",
    "-/+ buffers:              62272        64044\n",
    "Swap:            0            0            0\n",
    "```\n"
   ]
  }
 ],
 "metadata": {
  "anaconda-cloud": {},
  "kernelspec": {
   "display_name": "Bash",
   "language": "bash",
   "name": "bash"
  },
  "language_info": {
   "codemirror_mode": "shell",
   "file_extension": ".sh",
   "mimetype": "text/x-sh",
   "name": "bash"
  }
 },
 "nbformat": 4,
 "nbformat_minor": 0
}
