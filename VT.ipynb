{
 "cells": [
  {
   "cell_type": "markdown",
   "metadata": {},
   "source": [
    "\n",
    "\n",
    "For Hyper-V, please check windows.md chapter.\n",
    "For Docker, please check the docker chapter.\n",
    "\n",
    "# Vagrant\n",
    "Get Direct link: https://github.com/everyx/vagrant-box-download-helper-everyx.user.js\n",
    "\n",
    "vagrant init carbon/osx-elcapitan-10.11; vagrant up --provider virtualbox\n",
    "vagrant init laravel/homestead; vagrant up --provider virtualbox\n",
    "\n",
    "# QEMU\n",
    "> disk convert\n",
    "- https://cloudbase.it/qemu-img-windows/\n",
    "\n",
    "https://resin.io/blog/building-arm-containers-on-any-x86-machine-even-dockerhub/\n",
    " "
   ]
  }
 ],
 "metadata": {
  "anaconda-cloud": {},
  "kernelspec": {
   "display_name": "Bash",
   "language": "bash",
   "name": "bash"
  },
  "language_info": {
   "codemirror_mode": "shell",
   "file_extension": ".sh",
   "mimetype": "text/x-sh",
   "name": "bash"
  }
 },
 "nbformat": 4,
 "nbformat_minor": 0
}
