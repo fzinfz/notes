{
 "cells": [
  {
   "cell_type": "code",
   "execution_count": null,
   "metadata": {
    "collapsed": true
   },
   "outputs": [],
   "source": [
    "docker run -it --entrypoint=/bin/bash $IMAGE -i"
   ]
  },
  {
   "cell_type": "code",
   "execution_count": null,
   "metadata": {
    "collapsed": true
   },
   "outputs": [],
   "source": []
  },
  {
   "cell_type": "markdown",
   "metadata": {},
   "source": [
    "# Rules\n",
    "Cannot combine --link & --net host "
   ]
  },
  {
   "cell_type": "code",
   "execution_count": null,
   "metadata": {
    "collapsed": true
   },
   "outputs": [],
   "source": [
    "find . -name 'db*.sql' | awk '{ print \"source\",$0 }' | mysql --batch -u root -prootpwferro sspanel\n",
    "\n",
    "    location /ss {\n",
    "        root /var/html/www/ss-panel/public;\n",
    "        try_files $uri $uri/ /index.php$is_args$args;\n",
    "    }\n",
    "\n",
    "\n",
    "docker ps\n",
    "\n",
    "docker attach 0b074fd14d56\n",
    "\n",
    "docker exec -it 665b4a1e17b6 /bin/bash\n",
    "\n",
    "docker images\n",
    "\n",
    "docker tag a653e265abb0  fzinfz/jupyter:latest"
   ]
  },
  {
   "cell_type": "code",
   "execution_count": 12,
   "metadata": {
    "collapsed": false
   },
   "outputs": [
    {
     "name": "stdout",
     "output_type": "stream",
     "text": [
      "Untagged: fzinfz/jupyter:0.1\r\n"
     ]
    }
   ],
   "source": [
    "docker rmi -f fzinfz/jupyter:0.1"
   ]
  },
  {
   "cell_type": "code",
   "execution_count": null,
   "metadata": {
    "collapsed": true
   },
   "outputs": [],
   "source": [
    "docker run -it --entrypoint=/bin/bash $IMAGE -i"
   ]
  },
  {
   "cell_type": "code",
   "execution_count": null,
   "metadata": {
    "collapsed": true
   },
   "outputs": [],
   "source": [
    "docker commit -c \"EXPOSE 8888\" 37cdc2e7328b    fzinfz/jupyter:0.2-addBash"
   ]
  },
  {
   "cell_type": "code",
   "execution_count": 31,
   "metadata": {
    "collapsed": false
   },
   "outputs": [
    {
     "name": "stdout",
     "output_type": "stream",
     "text": [
      "IMAGE               CREATED             CREATED BY                                      SIZE                COMMENT\r\n",
      "4480582d0805        11 days ago         /bin/sh -c #(nop) CMD [\"/bin/bash\"]             0 B                 \r\n",
      "<missing>           11 days ago         /bin/sh -c #(nop) ENTRYPOINT [\"/usr/bin/tini\"   0 B                 \r\n",
      "<missing>           11 days ago         /bin/sh -c #(nop) ENV PATH=/opt/conda/bin:/us   0 B                 \r\n",
      "<missing>           11 days ago         /bin/sh -c apt-get install -y curl grep sed d   2.295 MB            \r\n",
      "<missing>           11 days ago         /bin/sh -c echo 'export PATH=/opt/conda/bin:$   1.556 GB            \r\n",
      "<missing>           11 days ago         /bin/sh -c apt-get update --fix-missing && ap   195 MB              \r\n",
      "<missing>           11 days ago         /bin/sh -c #(nop) ENV LANG=C.UTF-8 LC_ALL=C.U   0 B                 \r\n",
      "<missing>           11 days ago         /bin/sh -c #(nop) MAINTAINER Kamil Kwiek <kam   0 B                 \r\n",
      "<missing>           2 weeks ago         /bin/sh -c #(nop) CMD [\"/bin/bash\"]             0 B                 \r\n",
      "<missing>           2 weeks ago         /bin/sh -c #(nop) ADD file:0e0565652aa852f620   125.1 MB            \r\n"
     ]
    }
   ],
   "source": [
    "docker history  continuumio/anaconda3"
   ]
  },
  {
   "cell_type": "code",
   "execution_count": null,
   "metadata": {
    "collapsed": true
   },
   "outputs": [],
   "source": [
    "docker tag local-image:tagname fzinfz/ferro:tagname\n",
    "docker push fzinfz/ferro:tagname"
   ]
  },
  {
   "cell_type": "code",
   "execution_count": null,
   "metadata": {
    "collapsed": true
   },
   "outputs": [],
   "source": [
    "stop all containers:\n",
    "docker kill $(docker ps -q)\n",
    "\n",
    "remove all containers\n",
    "docker rm $(docker ps -a -q)\n",
    "\n",
    "remove all Exited docker containers\n",
    "docker ps -a | egrep 'Exited|Created' | awk '{print $1}' | xargs --no-run-if-empty docker rm\n",
    "\n",
    "remove all docker images\n",
    "docker rmi $(docker images -q)"
   ]
  },
  {
   "cell_type": "code",
   "execution_count": 4,
   "metadata": {
    "collapsed": false
   },
   "outputs": [
    {
     "name": "stdout",
     "output_type": "stream",
     "text": [
      "Cannot connect to the Docker daemon. Is the docker daemon running on this host?\r\n"
     ]
    }
   ],
   "source": [
    "docker network ls"
   ]
  },
  {
   "cell_type": "markdown",
   "metadata": {},
   "source": [
    "\n",
    "# Install\n",
    "## Linux\n",
    "https://docs.docker.com/engine/getstarted/linux_install_help/  \n",
    "kernel must be 3.10 at minimum, which CentOS 7 runs.\n",
    "```\n",
    "$ curl -fsSL https://get.docker.com/ | sh\n",
    "```\n",
    "### CentOS\n",
    "https://docs.docker.com/engine/installation/linux/centos/\n",
    "\n",
    "```\n",
    "$ sudo tee /etc/yum.repos.d/docker.repo <<-'EOF'\n",
    "[dockerrepo]\n",
    "name=Docker Repository\n",
    "baseurl=https://yum.dockerproject.org/repo/main/centos/7/\n",
    "enabled=1\n",
    "gpgcheck=1\n",
    "gpgkey=https://yum.dockerproject.org/gpg\n",
    "EOF\n",
    "\n",
    "sudo yum install docker-engine\n",
    "\n",
    "sudo service docker start\n",
    "sudo chkconfig docker on\n",
    "```\n",
    "\n",
    "## Linux based On Windows/Mac\n",
    "https://docs.docker.com/engine/installation/windows/  \n",
    "https://docs.docker.com/machine/drivers/  \n",
    "Bugs:  \n",
    "https://forums.docker.com/t/how-can-i-ssh-into-the-betas-mobylinuxvm/10991/\n",
    "\n",
    "### Windows Container\n",
    "https://msdn.microsoft.com/en-us/virtualization/windowscontainers/quick_start/quick_start_windows_server  \n",
    "\n",
    "https://blogs.msdn.microsoft.com/jcorioland/2016/04/28/getting-started-with-containers-and-docker-on-windows-server-2016-technical-preview-5/  \n",
    "\n",
    "```\n",
    "Install-WindowsFeature containers\n",
    "Restart-Computer -Force\n",
    "\n",
    "New-Item -Type Directory -Path 'C:\\Program Files\\docker\\'\n",
    "Invoke-WebRequest https://aka.ms/tp5/b/dockerd -OutFile $env:ProgramFiles\\docker\\dockerd.exe -UseBasicParsing\n",
    "Invoke-WebRequest https://aka.ms/tp5/b/docker -OutFile $env:ProgramFiles\\docker\\docker.exe -UseBasicParsing\n",
    "\n",
    "[Environment]::SetEnvironmentVariable(\"Path\", $env:Path + \";C:\\Program Files\\Docker\", [EnvironmentVariableTarget]::Machine)\n",
    "\n",
    "dockerd --register-service\n",
    "Start-Service docker\n",
    "\n",
    "Install-PackageProvider ContainerImage -Force\n",
    "Install-ContainerImage -Name WindowsServerCore\n",
    "Restart-Service docker\n",
    "```\n",
    "\n",
    "# Registry\n",
    "## China Mirrors\n",
    "https://hpc.aliyun.com/doc/docker%E9%95%9C%E5%83%8F%E6%9C%8D%E5%8A%A1  \n",
    "https://servers.ustclug.org/2015/05/new-docker-hub-registry-mirror/ \n",
    "```\n",
    "docker login -u anonymouse -p anonymouse docker.mirrors.ustc.edu.cn \n",
    "```\n",
    "\n",
    "### Systemd\n",
    "https://servers.ustclug.org/2015/05/new-docker-hub-registry-mirror/\n",
    "\n",
    "### boot2docker\n",
    "```\n",
    "echo EXTRA_ARGS=\"--registry-mirror=https://docker.mirrors.ustc.edu.cn\"  >>  /var/lib/boot2docker/profile\n",
    "```\n",
    "\n",
    "## Deploying a registry server\n",
    "https://github.com/docker/distribution/blob/master/docs/deploying.md  "
   ]
  },
  {
   "cell_type": "code",
   "execution_count": null,
   "metadata": {
    "collapsed": true
   },
   "outputs": [],
   "source": [
    "docker run -d -p 5000:5000 --restart=always --name registry registry:2"
   ]
  },
  {
   "cell_type": "code",
   "execution_count": 26,
   "metadata": {
    "collapsed": false
   },
   "outputs": [
    {
     "name": "stdout",
     "output_type": "stream",
     "text": [
      " WARNING: Usage of loopback devices is strongly discouraged for production use. Either use `--storage-opt dm.thinpooldev` or use `--storage-opt dm.no_warn_on_loop_devices=true` to suppress this warning.\r\n",
      "WARNING: bridge-nf-call-iptables is disabled\r\n",
      "WARNING: bridge-nf-call-ip6tables is disabled\r\n",
      "\u001b[01;31m\u001b[KRegistry\u001b[m\u001b[K: https://index.docker.io/v1/\r\n"
     ]
    }
   ],
   "source": [
    "docker info | grep Registry"
   ]
  }
 ],
 "metadata": {
  "anaconda-cloud": {},
  "kernelspec": {
   "display_name": "Bash",
   "language": "bash",
   "name": "bash"
  },
  "language_info": {
   "codemirror_mode": "shell",
   "file_extension": ".sh",
   "mimetype": "text/x-sh",
   "name": "bash"
  }
 },
 "nbformat": 4,
 "nbformat_minor": 0
}
