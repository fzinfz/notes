{
 "cells": [
  {
   "cell_type": "markdown",
   "metadata": {
    "collapsed": true
   },
   "source": [
    "# Mirrors\n",
    "https://hpc.aliyun.com/doc/docker%E9%95%9C%E5%83%8F%E6%9C%8D%E5%8A%A1  \n",
    "https://servers.ustclug.org/2015/05/new-docker-hub-registry-mirror/ "
   ]
  },
  {
   "cell_type": "code",
   "execution_count": 26,
   "metadata": {
    "collapsed": false
   },
   "outputs": [
    {
     "name": "stdout",
     "output_type": "stream",
     "text": [
      " WARNING: Usage of loopback devices is strongly discouraged for production use. Either use `--storage-opt dm.thinpooldev` or use `--storage-opt dm.no_warn_on_loop_devices=true` to suppress this warning.\r\n",
      "WARNING: bridge-nf-call-iptables is disabled\r\n",
      "WARNING: bridge-nf-call-ip6tables is disabled\r\n",
      "\u001b[01;31m\u001b[KRegistry\u001b[m\u001b[K: https://index.docker.io/v1/\r\n"
     ]
    }
   ],
   "source": [
    "docker info | grep Registry"
   ]
  },
  {
   "cell_type": "code",
   "execution_count": null,
   "metadata": {
    "collapsed": true
   },
   "outputs": [],
   "source": [
    "docker run -it --entrypoint=/bin/bash $IMAGE -i"
   ]
  },
  {
   "cell_type": "code",
   "execution_count": 14,
   "metadata": {
    "collapsed": false
   },
   "outputs": [
    {
     "name": "stdout",
     "output_type": "stream",
     "text": [
      "REPOSITORY              TAG                 IMAGE ID            CREATED             SIZE\r\n",
      "fzinfz/jupyter          0.2-addBash         a653e265abb0        About an hour ago   801.9 MB\r\n",
      "fzinfz/jupyter          latest              a653e265abb0        About an hour ago   801.9 MB\r\n",
      "ipython/notebook        latest              350415f37e2c        3 days ago          816.6 MB\r\n",
      "python                  3.5.2               a08871375fac        3 days ago          684.2 MB\r\n",
      "continuumio/anaconda3   latest              4480582d0805        11 days ago         1.878 GB\r\n",
      "continuumio/miniconda   latest              68829a8b7882        11 days ago         433.8 MB\r\n",
      "golang                  latest              f24c8478ed40        2 weeks ago         744.1 MB\r\n",
      "alpine                  latest              4e38e38c8ce0        7 weeks ago         4.795 MB\r\n"
     ]
    }
   ],
   "source": [
    "docker images"
   ]
  },
  {
   "cell_type": "code",
   "execution_count": 13,
   "metadata": {
    "collapsed": false
   },
   "outputs": [
    {
     "name": "stdout",
     "output_type": "stream",
     "text": []
    }
   ],
   "source": [
    "docker tag a653e265abb0  fzinfz/jupyter:latest"
   ]
  },
  {
   "cell_type": "code",
   "execution_count": 12,
   "metadata": {
    "collapsed": false
   },
   "outputs": [
    {
     "name": "stdout",
     "output_type": "stream",
     "text": [
      "Untagged: fzinfz/jupyter:0.1\r\n"
     ]
    }
   ],
   "source": [
    "docker rmi -f fzinfz/jupyter:0.1"
   ]
  },
  {
   "cell_type": "code",
   "execution_count": null,
   "metadata": {
    "collapsed": true
   },
   "outputs": [],
   "source": [
    "docker run -it --entrypoint=/bin/bash $IMAGE -i"
   ]
  },
  {
   "cell_type": "code",
   "execution_count": null,
   "metadata": {
    "collapsed": true
   },
   "outputs": [],
   "source": [
    "docker commit -c \"EXPOSE 8888\" 37cdc2e7328b    fzinfz/jupyter:0.2-addBash"
   ]
  },
  {
   "cell_type": "code",
   "execution_count": 27,
   "metadata": {
    "collapsed": false
   },
   "outputs": [
    {
     "name": "stdout",
     "output_type": "stream",
     "text": [
      "IMAGE               CREATED             CREATED BY                                      SIZE                COMMENT\r\n",
      "a653e265abb0        About an hour ago   -i                                              40.05 MB            \r\n",
      "8a32d1bf170e        2 hours ago         -i                                              77.65 MB            \r\n",
      "a08871375fac        3 days ago          /bin/sh -c #(nop) CMD [\"python3\"]               0 B                 \r\n",
      "<missing>           3 days ago          /bin/sh -c cd /usr/local/bin  && { [ -e easy_   0 B                 \r\n",
      "<missing>           3 days ago          /bin/sh -c set -ex  && buildDeps='   tcl-dev    66.43 MB            \r\n",
      "<missing>           3 days ago          /bin/sh -c #(nop) ENV PYTHON_PIP_VERSION=8.1.   0 B                 \r\n",
      "<missing>           3 days ago          /bin/sh -c #(nop) ENV PYTHON_VERSION=3.5.2      0 B                 \r\n",
      "<missing>           3 days ago          /bin/sh -c #(nop) ENV GPG_KEY=97FC712E4C024BB   0 B                 \r\n",
      "<missing>           4 days ago          /bin/sh -c apt-get update && apt-get install    7.745 MB            \r\n",
      "<missing>           5 days ago          /bin/sh -c #(nop) ENV LANG=C.UTF-8              0 B                 \r\n",
      "<missing>           5 days ago          /bin/sh -c #(nop) ENV PATH=/usr/local/bin:/us   0 B                 \r\n",
      "<missing>           2 weeks ago         /bin/sh -c apt-get update && apt-get install    318.1 MB            \r\n",
      "<missing>           2 weeks ago         /bin/sh -c apt-get update && apt-get install    122.6 MB            \r\n",
      "<missing>           2 weeks ago         /bin/sh -c apt-get update && apt-get install    44.28 MB            \r\n",
      "<missing>           2 weeks ago         /bin/sh -c #(nop) CMD [\"/bin/bash\"]             0 B                 \r\n",
      "<missing>           2 weeks ago         /bin/sh -c #(nop) ADD file:0e0565652aa852f620   125.1 MB            \r\n"
     ]
    }
   ],
   "source": [
    "docker history  fzinfz/jupyter "
   ]
  }
 ],
 "metadata": {
  "anaconda-cloud": {},
  "kernelspec": {
   "display_name": "Bash",
   "language": "bash",
   "name": "bash"
  },
  "language_info": {
   "codemirror_mode": "shell",
   "file_extension": ".sh",
   "mimetype": "text/x-sh",
   "name": "bash"
  }
 },
 "nbformat": 4,
 "nbformat_minor": 0
}
